{
 "cells": [
  {
   "cell_type": "code",
   "execution_count": 11,
   "id": "7b8dd89c",
   "metadata": {},
   "outputs": [],
   "source": [
    "import numpy as np\n",
    "from joblib import dump,load\n",
    "model = load('Car.joblib')"
   ]
  },
  {
   "cell_type": "code",
   "execution_count": 12,
   "id": "ef56bc06",
   "metadata": {},
   "outputs": [
    {
     "data": {
      "text/plain": [
       "array([8832.77])"
      ]
     },
     "execution_count": 12,
     "metadata": {},
     "output_type": "execute_result"
    }
   ],
   "source": [
    "features = np.array([-1.5898799 , -5.5570628 , -4.28097574, -0.47316022,  0.85282594,\n",
    "       -0.72987004, -1.07832604,  0.59117218,  0.14699224,  0.29381463,\n",
    "        0.47472158, -0.39733318, -0.33801593, -5.08361085,  0.07483599,\n",
    "        0.66956829, -0.32073522, -0.26047709, -1.4267149 ,  0.55353327,\n",
    "        0.44644375, -4.11111111, -0.19487094, -0.73970927,  1.07605517,\n",
    "       -0.39361095, -4.2409658 , -0.07832604, -0.2548236 ,  0.58673869,\n",
    "       -0.26813322, -0.2409658 , -3.11111111, -0.26813322, -4.72987004,\n",
    "       -0.07832604, -0.28097574, -0.07832604,  1.11650138, -0.22645541,\n",
    "       -3.07832604, -0.11111111, -0.21115394, -0.21115394, -0.13650473,\n",
    "       -3.21115394, -0.28097574, -0.15811388, -0.13650473, -0.26813322,\n",
    "       -3.19487094, -0.07832604, -0.26813322, -0.31728716, -0.2409658 ,\n",
    "       -3.19487094, -0.13650473, -0.07832604, -0.17733173, -0.2548236 ,\n",
    "        2.35796522, -0.2548236 , -0.19487094])\n",
    "model.predict([features])"
   ]
  },
  {
   "cell_type": "code",
   "execution_count": null,
   "id": "46f4a5e7",
   "metadata": {},
   "outputs": [],
   "source": []
  }
 ],
 "metadata": {
  "kernelspec": {
   "display_name": "Python 3",
   "language": "python",
   "name": "python3"
  },
  "language_info": {
   "codemirror_mode": {
    "name": "ipython",
    "version": 3
   },
   "file_extension": ".py",
   "mimetype": "text/x-python",
   "name": "python",
   "nbconvert_exporter": "python",
   "pygments_lexer": "ipython3",
   "version": "3.9.5"
  }
 },
 "nbformat": 4,
 "nbformat_minor": 5
}
