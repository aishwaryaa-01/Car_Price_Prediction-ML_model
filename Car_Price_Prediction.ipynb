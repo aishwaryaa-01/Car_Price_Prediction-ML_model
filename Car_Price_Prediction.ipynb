{
 "cells": [
  {
   "cell_type": "code",
   "execution_count": 1,
   "id": "61078d55",
   "metadata": {},
   "outputs": [],
   "source": [
    "import pandas as pd"
   ]
  },
  {
   "cell_type": "code",
   "execution_count": 2,
   "id": "35174ffc",
   "metadata": {},
   "outputs": [],
   "source": [
    "url = \"Automobile_data.csv\""
   ]
  },
  {
   "cell_type": "code",
   "execution_count": 3,
   "id": "a3e6f7e8",
   "metadata": {},
   "outputs": [],
   "source": [
    "df = pd.read_csv(url)"
   ]
  },
  {
   "cell_type": "code",
   "execution_count": 4,
   "id": "a895008e",
   "metadata": {},
   "outputs": [
    {
     "data": {
      "text/html": [
       "<div>\n",
       "<style scoped>\n",
       "    .dataframe tbody tr th:only-of-type {\n",
       "        vertical-align: middle;\n",
       "    }\n",
       "\n",
       "    .dataframe tbody tr th {\n",
       "        vertical-align: top;\n",
       "    }\n",
       "\n",
       "    .dataframe thead th {\n",
       "        text-align: right;\n",
       "    }\n",
       "</style>\n",
       "<table border=\"1\" class=\"dataframe\">\n",
       "  <thead>\n",
       "    <tr style=\"text-align: right;\">\n",
       "      <th></th>\n",
       "      <th>symboling</th>\n",
       "      <th>normalized-losses</th>\n",
       "      <th>make</th>\n",
       "      <th>fuel-type</th>\n",
       "      <th>aspiration</th>\n",
       "      <th>num-of-doors</th>\n",
       "      <th>body-style</th>\n",
       "      <th>drive-wheels</th>\n",
       "      <th>engine-location</th>\n",
       "      <th>wheel-base</th>\n",
       "      <th>...</th>\n",
       "      <th>engine-size</th>\n",
       "      <th>fuel-system</th>\n",
       "      <th>bore</th>\n",
       "      <th>stroke</th>\n",
       "      <th>compression-ratio</th>\n",
       "      <th>horsepower</th>\n",
       "      <th>peak-rpm</th>\n",
       "      <th>city-mpg</th>\n",
       "      <th>highway-mpg</th>\n",
       "      <th>price</th>\n",
       "    </tr>\n",
       "  </thead>\n",
       "  <tbody>\n",
       "    <tr>\n",
       "      <th>0</th>\n",
       "      <td>3</td>\n",
       "      <td>?</td>\n",
       "      <td>alfa-romero</td>\n",
       "      <td>gas</td>\n",
       "      <td>std</td>\n",
       "      <td>two</td>\n",
       "      <td>convertible</td>\n",
       "      <td>rwd</td>\n",
       "      <td>front</td>\n",
       "      <td>88.6</td>\n",
       "      <td>...</td>\n",
       "      <td>130</td>\n",
       "      <td>mpfi</td>\n",
       "      <td>3.47</td>\n",
       "      <td>2.68</td>\n",
       "      <td>9.0</td>\n",
       "      <td>111</td>\n",
       "      <td>5000</td>\n",
       "      <td>21</td>\n",
       "      <td>27</td>\n",
       "      <td>13495</td>\n",
       "    </tr>\n",
       "    <tr>\n",
       "      <th>1</th>\n",
       "      <td>3</td>\n",
       "      <td>?</td>\n",
       "      <td>alfa-romero</td>\n",
       "      <td>gas</td>\n",
       "      <td>std</td>\n",
       "      <td>two</td>\n",
       "      <td>convertible</td>\n",
       "      <td>rwd</td>\n",
       "      <td>front</td>\n",
       "      <td>88.6</td>\n",
       "      <td>...</td>\n",
       "      <td>130</td>\n",
       "      <td>mpfi</td>\n",
       "      <td>3.47</td>\n",
       "      <td>2.68</td>\n",
       "      <td>9.0</td>\n",
       "      <td>111</td>\n",
       "      <td>5000</td>\n",
       "      <td>21</td>\n",
       "      <td>27</td>\n",
       "      <td>16500</td>\n",
       "    </tr>\n",
       "    <tr>\n",
       "      <th>2</th>\n",
       "      <td>1</td>\n",
       "      <td>?</td>\n",
       "      <td>alfa-romero</td>\n",
       "      <td>gas</td>\n",
       "      <td>std</td>\n",
       "      <td>two</td>\n",
       "      <td>hatchback</td>\n",
       "      <td>rwd</td>\n",
       "      <td>front</td>\n",
       "      <td>94.5</td>\n",
       "      <td>...</td>\n",
       "      <td>152</td>\n",
       "      <td>mpfi</td>\n",
       "      <td>2.68</td>\n",
       "      <td>3.47</td>\n",
       "      <td>9.0</td>\n",
       "      <td>154</td>\n",
       "      <td>5000</td>\n",
       "      <td>19</td>\n",
       "      <td>26</td>\n",
       "      <td>16500</td>\n",
       "    </tr>\n",
       "    <tr>\n",
       "      <th>3</th>\n",
       "      <td>2</td>\n",
       "      <td>164</td>\n",
       "      <td>audi</td>\n",
       "      <td>gas</td>\n",
       "      <td>std</td>\n",
       "      <td>four</td>\n",
       "      <td>sedan</td>\n",
       "      <td>fwd</td>\n",
       "      <td>front</td>\n",
       "      <td>99.8</td>\n",
       "      <td>...</td>\n",
       "      <td>109</td>\n",
       "      <td>mpfi</td>\n",
       "      <td>3.19</td>\n",
       "      <td>3.4</td>\n",
       "      <td>10.0</td>\n",
       "      <td>102</td>\n",
       "      <td>5500</td>\n",
       "      <td>24</td>\n",
       "      <td>30</td>\n",
       "      <td>13950</td>\n",
       "    </tr>\n",
       "    <tr>\n",
       "      <th>4</th>\n",
       "      <td>2</td>\n",
       "      <td>164</td>\n",
       "      <td>audi</td>\n",
       "      <td>gas</td>\n",
       "      <td>std</td>\n",
       "      <td>four</td>\n",
       "      <td>sedan</td>\n",
       "      <td>4wd</td>\n",
       "      <td>front</td>\n",
       "      <td>99.4</td>\n",
       "      <td>...</td>\n",
       "      <td>136</td>\n",
       "      <td>mpfi</td>\n",
       "      <td>3.19</td>\n",
       "      <td>3.4</td>\n",
       "      <td>8.0</td>\n",
       "      <td>115</td>\n",
       "      <td>5500</td>\n",
       "      <td>18</td>\n",
       "      <td>22</td>\n",
       "      <td>17450</td>\n",
       "    </tr>\n",
       "  </tbody>\n",
       "</table>\n",
       "<p>5 rows × 26 columns</p>\n",
       "</div>"
      ],
      "text/plain": [
       "   symboling normalized-losses         make fuel-type aspiration num-of-doors  \\\n",
       "0          3                 ?  alfa-romero       gas        std          two   \n",
       "1          3                 ?  alfa-romero       gas        std          two   \n",
       "2          1                 ?  alfa-romero       gas        std          two   \n",
       "3          2               164         audi       gas        std         four   \n",
       "4          2               164         audi       gas        std         four   \n",
       "\n",
       "    body-style drive-wheels engine-location  wheel-base  ...  engine-size  \\\n",
       "0  convertible          rwd           front        88.6  ...          130   \n",
       "1  convertible          rwd           front        88.6  ...          130   \n",
       "2    hatchback          rwd           front        94.5  ...          152   \n",
       "3        sedan          fwd           front        99.8  ...          109   \n",
       "4        sedan          4wd           front        99.4  ...          136   \n",
       "\n",
       "   fuel-system  bore  stroke compression-ratio horsepower  peak-rpm city-mpg  \\\n",
       "0         mpfi  3.47    2.68               9.0        111      5000       21   \n",
       "1         mpfi  3.47    2.68               9.0        111      5000       21   \n",
       "2         mpfi  2.68    3.47               9.0        154      5000       19   \n",
       "3         mpfi  3.19     3.4              10.0        102      5500       24   \n",
       "4         mpfi  3.19     3.4               8.0        115      5500       18   \n",
       "\n",
       "  highway-mpg  price  \n",
       "0          27  13495  \n",
       "1          27  16500  \n",
       "2          26  16500  \n",
       "3          30  13950  \n",
       "4          22  17450  \n",
       "\n",
       "[5 rows x 26 columns]"
      ]
     },
     "execution_count": 4,
     "metadata": {},
     "output_type": "execute_result"
    }
   ],
   "source": [
    "df.head()"
   ]
  },
  {
   "cell_type": "code",
   "execution_count": 5,
   "id": "10617221",
   "metadata": {},
   "outputs": [
    {
     "name": "stdout",
     "output_type": "stream",
     "text": [
      "<class 'pandas.core.frame.DataFrame'>\n",
      "RangeIndex: 205 entries, 0 to 204\n",
      "Data columns (total 26 columns):\n",
      " #   Column             Non-Null Count  Dtype  \n",
      "---  ------             --------------  -----  \n",
      " 0   symboling          205 non-null    int64  \n",
      " 1   normalized-losses  205 non-null    object \n",
      " 2   make               205 non-null    object \n",
      " 3   fuel-type          205 non-null    object \n",
      " 4   aspiration         205 non-null    object \n",
      " 5   num-of-doors       205 non-null    object \n",
      " 6   body-style         205 non-null    object \n",
      " 7   drive-wheels       205 non-null    object \n",
      " 8   engine-location    205 non-null    object \n",
      " 9   wheel-base         205 non-null    float64\n",
      " 10  length             205 non-null    float64\n",
      " 11  width              205 non-null    float64\n",
      " 12  height             205 non-null    float64\n",
      " 13  curb-weight        205 non-null    int64  \n",
      " 14  engine-type        205 non-null    object \n",
      " 15  num-of-cylinders   205 non-null    object \n",
      " 16  engine-size        205 non-null    int64  \n",
      " 17  fuel-system        205 non-null    object \n",
      " 18  bore               205 non-null    object \n",
      " 19  stroke             205 non-null    object \n",
      " 20  compression-ratio  205 non-null    float64\n",
      " 21  horsepower         205 non-null    object \n",
      " 22  peak-rpm           205 non-null    object \n",
      " 23  city-mpg           205 non-null    int64  \n",
      " 24  highway-mpg        205 non-null    int64  \n",
      " 25  price              205 non-null    object \n",
      "dtypes: float64(5), int64(5), object(16)\n",
      "memory usage: 41.8+ KB\n"
     ]
    }
   ],
   "source": [
    "df.info()"
   ]
  },
  {
   "cell_type": "code",
   "execution_count": 6,
   "id": "74b01d73",
   "metadata": {},
   "outputs": [],
   "source": [
    "import numpy as np"
   ]
  },
  {
   "cell_type": "code",
   "execution_count": 7,
   "id": "0e1b7ec9",
   "metadata": {},
   "outputs": [],
   "source": [
    "df = df.replace(\"?\", np.nan)"
   ]
  },
  {
   "cell_type": "code",
   "execution_count": 8,
   "id": "8136f962",
   "metadata": {},
   "outputs": [],
   "source": [
    "#df.head()"
   ]
  },
  {
   "cell_type": "markdown",
   "id": "88ff5157",
   "metadata": {},
   "source": [
    "## Drop Nan Values"
   ]
  },
  {
   "cell_type": "code",
   "execution_count": 9,
   "id": "3319728c",
   "metadata": {},
   "outputs": [],
   "source": [
    "#you cannot replace nan with mean values as \"symboling\" contains'+' and '-',so covert nan to 0."
   ]
  },
  {
   "cell_type": "code",
   "execution_count": 10,
   "id": "989a923c",
   "metadata": {},
   "outputs": [],
   "source": [
    "df= df.replace(np.nan,0)"
   ]
  },
  {
   "cell_type": "code",
   "execution_count": 11,
   "id": "6e3eed6a",
   "metadata": {},
   "outputs": [],
   "source": [
    "#df.head()"
   ]
  },
  {
   "cell_type": "markdown",
   "id": "376cb184",
   "metadata": {},
   "source": [
    "## Converting some wrong \"object\" to \"int\" using \"astype\""
   ]
  },
  {
   "cell_type": "code",
   "execution_count": 12,
   "id": "d126aa39",
   "metadata": {},
   "outputs": [],
   "source": [
    "df['normalized-losses']= df['normalized-losses'].astype('int64')"
   ]
  },
  {
   "cell_type": "code",
   "execution_count": 13,
   "id": "32d87411",
   "metadata": {},
   "outputs": [
    {
     "data": {
      "text/plain": [
       "dtype('int64')"
      ]
     },
     "execution_count": 13,
     "metadata": {},
     "output_type": "execute_result"
    }
   ],
   "source": [
    "df['normalized-losses'].dtypes"
   ]
  },
  {
   "cell_type": "code",
   "execution_count": 14,
   "id": "fa655668",
   "metadata": {},
   "outputs": [],
   "source": [
    "df['bore']= df['bore'].astype('float64')"
   ]
  },
  {
   "cell_type": "code",
   "execution_count": 15,
   "id": "2a434eca",
   "metadata": {},
   "outputs": [
    {
     "data": {
      "text/plain": [
       "dtype('float64')"
      ]
     },
     "execution_count": 15,
     "metadata": {},
     "output_type": "execute_result"
    }
   ],
   "source": [
    "df['bore'].dtypes"
   ]
  },
  {
   "cell_type": "code",
   "execution_count": 16,
   "id": "6eaea2d0",
   "metadata": {},
   "outputs": [],
   "source": [
    "df['stroke']= df['stroke'].astype('float64')"
   ]
  },
  {
   "cell_type": "code",
   "execution_count": 17,
   "id": "be582269",
   "metadata": {},
   "outputs": [
    {
     "data": {
      "text/plain": [
       "dtype('float64')"
      ]
     },
     "execution_count": 17,
     "metadata": {},
     "output_type": "execute_result"
    }
   ],
   "source": [
    "df['stroke'].dtypes"
   ]
  },
  {
   "cell_type": "code",
   "execution_count": 18,
   "id": "06e70c5e",
   "metadata": {},
   "outputs": [],
   "source": [
    "df['horsepower']= df['horsepower'].astype('int64')"
   ]
  },
  {
   "cell_type": "code",
   "execution_count": 19,
   "id": "025c3137",
   "metadata": {},
   "outputs": [
    {
     "data": {
      "text/plain": [
       "dtype('int64')"
      ]
     },
     "execution_count": 19,
     "metadata": {},
     "output_type": "execute_result"
    }
   ],
   "source": [
    "df['horsepower'].dtypes"
   ]
  },
  {
   "cell_type": "code",
   "execution_count": 20,
   "id": "47d28db0",
   "metadata": {},
   "outputs": [],
   "source": [
    "df['peak-rpm']= df['peak-rpm'].astype('int64')"
   ]
  },
  {
   "cell_type": "code",
   "execution_count": 21,
   "id": "1b670601",
   "metadata": {},
   "outputs": [
    {
     "data": {
      "text/plain": [
       "dtype('int64')"
      ]
     },
     "execution_count": 21,
     "metadata": {},
     "output_type": "execute_result"
    }
   ],
   "source": [
    "df['peak-rpm'].dtypes"
   ]
  },
  {
   "cell_type": "code",
   "execution_count": 22,
   "id": "10a83856",
   "metadata": {},
   "outputs": [],
   "source": [
    "df['price']= df['price'].astype('int64')"
   ]
  },
  {
   "cell_type": "code",
   "execution_count": 23,
   "id": "314f6847",
   "metadata": {},
   "outputs": [],
   "source": [
    "#df.info()"
   ]
  },
  {
   "cell_type": "code",
   "execution_count": 24,
   "id": "5c763cc8",
   "metadata": {},
   "outputs": [
    {
     "data": {
      "text/plain": [
       "gas       185\n",
       "diesel     20\n",
       "Name: fuel-type, dtype: int64"
      ]
     },
     "execution_count": 24,
     "metadata": {},
     "output_type": "execute_result"
    }
   ],
   "source": [
    "df['fuel-type'].value_counts()"
   ]
  },
  {
   "cell_type": "code",
   "execution_count": 25,
   "id": "d063df0b",
   "metadata": {},
   "outputs": [
    {
     "data": {
      "text/plain": [
       "std      168\n",
       "turbo     37\n",
       "Name: aspiration, dtype: int64"
      ]
     },
     "execution_count": 25,
     "metadata": {},
     "output_type": "execute_result"
    }
   ],
   "source": [
    "df['aspiration'].value_counts()"
   ]
  },
  {
   "cell_type": "code",
   "execution_count": 26,
   "id": "567aa8e4",
   "metadata": {},
   "outputs": [
    {
     "data": {
      "text/plain": [
       "four    114\n",
       "two      89\n",
       "0         2\n",
       "Name: num-of-doors, dtype: int64"
      ]
     },
     "execution_count": 26,
     "metadata": {},
     "output_type": "execute_result"
    }
   ],
   "source": [
    "df['num-of-doors'].value_counts()"
   ]
  },
  {
   "cell_type": "code",
   "execution_count": 27,
   "id": "7b62c865",
   "metadata": {},
   "outputs": [
    {
     "data": {
      "text/plain": [
       "sedan          96\n",
       "hatchback      70\n",
       "wagon          25\n",
       "hardtop         8\n",
       "convertible     6\n",
       "Name: body-style, dtype: int64"
      ]
     },
     "execution_count": 27,
     "metadata": {},
     "output_type": "execute_result"
    }
   ],
   "source": [
    "df['body-style'].value_counts()"
   ]
  },
  {
   "cell_type": "code",
   "execution_count": 28,
   "id": "ead44359",
   "metadata": {},
   "outputs": [
    {
     "data": {
      "text/plain": [
       "fwd    120\n",
       "rwd     76\n",
       "4wd      9\n",
       "Name: drive-wheels, dtype: int64"
      ]
     },
     "execution_count": 28,
     "metadata": {},
     "output_type": "execute_result"
    }
   ],
   "source": [
    "df['drive-wheels'].value_counts()"
   ]
  },
  {
   "cell_type": "code",
   "execution_count": 29,
   "id": "80d15069",
   "metadata": {},
   "outputs": [
    {
     "data": {
      "text/plain": [
       "front    202\n",
       "rear       3\n",
       "Name: engine-location, dtype: int64"
      ]
     },
     "execution_count": 29,
     "metadata": {},
     "output_type": "execute_result"
    }
   ],
   "source": [
    "df['engine-location'].value_counts()"
   ]
  },
  {
   "cell_type": "code",
   "execution_count": 30,
   "id": "27bc642d",
   "metadata": {},
   "outputs": [
    {
     "data": {
      "text/plain": [
       "ohc      148\n",
       "ohcf      15\n",
       "ohcv      13\n",
       "l         12\n",
       "dohc      12\n",
       "rotor      4\n",
       "dohcv      1\n",
       "Name: engine-type, dtype: int64"
      ]
     },
     "execution_count": 30,
     "metadata": {},
     "output_type": "execute_result"
    }
   ],
   "source": [
    "df['engine-type'].value_counts()"
   ]
  },
  {
   "cell_type": "code",
   "execution_count": 31,
   "id": "a9642e93",
   "metadata": {},
   "outputs": [
    {
     "data": {
      "text/plain": [
       "four      159\n",
       "six        24\n",
       "five       11\n",
       "eight       5\n",
       "two         4\n",
       "twelve      1\n",
       "three       1\n",
       "Name: num-of-cylinders, dtype: int64"
      ]
     },
     "execution_count": 31,
     "metadata": {},
     "output_type": "execute_result"
    }
   ],
   "source": [
    "df['num-of-cylinders'].value_counts()"
   ]
  },
  {
   "cell_type": "code",
   "execution_count": 32,
   "id": "4d1f16b6",
   "metadata": {},
   "outputs": [
    {
     "data": {
      "text/plain": [
       "mpfi    94\n",
       "2bbl    66\n",
       "idi     20\n",
       "1bbl    11\n",
       "spdi     9\n",
       "4bbl     3\n",
       "spfi     1\n",
       "mfi      1\n",
       "Name: fuel-system, dtype: int64"
      ]
     },
     "execution_count": 32,
     "metadata": {},
     "output_type": "execute_result"
    }
   ],
   "source": [
    "df['fuel-system'].value_counts()"
   ]
  },
  {
   "cell_type": "markdown",
   "id": "55b2e2d2",
   "metadata": {},
   "source": [
    "## Categorical to numerical Transformation"
   ]
  },
  {
   "cell_type": "markdown",
   "id": "3c1c4830",
   "metadata": {},
   "source": [
    "### 1. Using Sklearn---OneHotEncoder"
   ]
  },
  {
   "cell_type": "code",
   "execution_count": 33,
   "id": "78910ff8",
   "metadata": {},
   "outputs": [],
   "source": [
    "from sklearn.preprocessing import OneHotEncoder\n",
    "onehotencoder = OneHotEncoder()\n",
    "X = onehotencoder.fit_transform(df[[\"body-style\"]])\n",
    "dfone = pd.DataFrame(X.toarray(),columns = onehotencoder.categories_)\n",
    "df = pd.concat([df,dfone], axis = 1)\n",
    "df = df.drop(['body-style'],axis = 1)"
   ]
  },
  {
   "cell_type": "code",
   "execution_count": 34,
   "id": "652831b2",
   "metadata": {},
   "outputs": [],
   "source": [
    "#df.head()"
   ]
  },
  {
   "cell_type": "code",
   "execution_count": 35,
   "id": "2ddf2b91",
   "metadata": {},
   "outputs": [],
   "source": [
    "#df.info()"
   ]
  },
  {
   "cell_type": "code",
   "execution_count": 36,
   "id": "8fc67f67",
   "metadata": {},
   "outputs": [],
   "source": [
    "X = onehotencoder.fit_transform(df[[\"engine-type\"]])\n",
    "dfone2 = pd.DataFrame(X.toarray(),columns = onehotencoder.categories_)\n",
    "df = pd.concat([df,dfone2], axis = 1)\n",
    "df = df.drop(['engine-type'],axis = 1)"
   ]
  },
  {
   "cell_type": "code",
   "execution_count": 37,
   "id": "4bbc70b7",
   "metadata": {},
   "outputs": [],
   "source": [
    "X = onehotencoder.fit_transform(df[[\"fuel-system\"]])\n",
    "dfone3 = pd.DataFrame(X.toarray(),columns = onehotencoder.categories_)\n",
    "df = pd.concat([df,dfone3], axis = 1)\n",
    "df = df.drop(['fuel-system'],axis = 1)"
   ]
  },
  {
   "cell_type": "code",
   "execution_count": 38,
   "id": "af90e402",
   "metadata": {},
   "outputs": [],
   "source": [
    "X = onehotencoder.fit_transform(df[[\"make\"]])\n",
    "dfone3 = pd.DataFrame(X.toarray(),columns = onehotencoder.categories_)\n",
    "df = pd.concat([df,dfone3], axis = 1)\n",
    "df = df.drop(['make'],axis = 1)"
   ]
  },
  {
   "cell_type": "code",
   "execution_count": 39,
   "id": "85545024",
   "metadata": {},
   "outputs": [],
   "source": [
    "#df.head(20)"
   ]
  },
  {
   "cell_type": "code",
   "execution_count": 40,
   "id": "b3ed5ca5",
   "metadata": {},
   "outputs": [],
   "source": [
    "#df.info()"
   ]
  },
  {
   "cell_type": "markdown",
   "id": "f5eaaba8",
   "metadata": {},
   "source": [
    "# By Replacing values with num"
   ]
  },
  {
   "cell_type": "code",
   "execution_count": 41,
   "id": "f5f0cb2c",
   "metadata": {},
   "outputs": [],
   "source": [
    "df['engine-location'].replace({\"front\":\"0\",\"rear\":\"1\"},inplace = True)\n",
    "df['engine-location']= df['engine-location'].astype('int64')"
   ]
  },
  {
   "cell_type": "code",
   "execution_count": 42,
   "id": "099cc6b5",
   "metadata": {},
   "outputs": [],
   "source": [
    "df['num-of-doors'].replace({\"four\":\"4\",\"two\":\"2\"},inplace = True)\n",
    "df['num-of-doors']= df['num-of-doors'].astype('int64')"
   ]
  },
  {
   "cell_type": "code",
   "execution_count": 43,
   "id": "b9c5f481",
   "metadata": {},
   "outputs": [],
   "source": [
    "df['aspiration'].replace({\"std\":\"0\",\"turbo\":\"1\"},inplace = True)\n",
    "df['aspiration']= df['aspiration'].astype('int64')"
   ]
  },
  {
   "cell_type": "code",
   "execution_count": 44,
   "id": "fc17e756",
   "metadata": {},
   "outputs": [],
   "source": [
    "df['num-of-cylinders'].replace({\"two\":\"2\",\"three\":\"3\",\"four\":\"4\",\"five\":\"5\",\"six\":\"6\",\"eight\":\"8\",\"twelve\":\"12\"},inplace = True)\n",
    "df['num-of-cylinders']= df['num-of-cylinders'].astype('int64')"
   ]
  },
  {
   "cell_type": "code",
   "execution_count": 45,
   "id": "79d22490",
   "metadata": {},
   "outputs": [],
   "source": [
    "df['drive-wheels'] = df['drive-wheels'].replace('4wd','fwd') #wrong spelling"
   ]
  },
  {
   "cell_type": "code",
   "execution_count": 46,
   "id": "27180958",
   "metadata": {},
   "outputs": [],
   "source": [
    "df['drive-wheels'].replace({\"fwd\":\"0\",\"rwd\":\"1\"},inplace = True)\n",
    "df['drive-wheels']= df['drive-wheels'].astype('int64')"
   ]
  },
  {
   "cell_type": "code",
   "execution_count": 47,
   "id": "33465c22",
   "metadata": {},
   "outputs": [],
   "source": [
    "df['fuel-type'].replace({\"gas\":\"0\",\"diesel\":\"1\"},inplace = True)\n",
    "df['fuel-type']= df['fuel-type'].astype('int64')"
   ]
  },
  {
   "cell_type": "code",
   "execution_count": 48,
   "id": "4c06719e",
   "metadata": {},
   "outputs": [],
   "source": [
    "#df.head(10)"
   ]
  },
  {
   "cell_type": "code",
   "execution_count": 49,
   "id": "b36f6e4c",
   "metadata": {},
   "outputs": [],
   "source": [
    "#df.info()"
   ]
  },
  {
   "cell_type": "code",
   "execution_count": 50,
   "id": "03369dcd",
   "metadata": {},
   "outputs": [],
   "source": [
    "#splitting car company from car name(make)"
   ]
  },
  {
   "cell_type": "code",
   "execution_count": 51,
   "id": "d8e08e30",
   "metadata": {},
   "outputs": [],
   "source": [
    "#car_company = df[\"make\"].str.split(\" \", n = 1, expand = True)\n",
    "#df['CarCompany'] = car_company[0]\n",
    "\n",
    "# Dropping 'CarName=Make' column\n",
    "#df.drop('make',axis=1,inplace=True)\n",
    "#df.head()"
   ]
  },
  {
   "cell_type": "markdown",
   "id": "79d3c400",
   "metadata": {},
   "source": [
    "### 2.Using Pandas---it automaatically drops fuel-type from dataset"
   ]
  },
  {
   "cell_type": "code",
   "execution_count": 52,
   "id": "2175a94a",
   "metadata": {},
   "outputs": [],
   "source": [
    "#df=pd.get_dummies(df,columns=[\"fuel-type\"],prefix=[\"fuel-type\"]).head()"
   ]
  },
  {
   "cell_type": "code",
   "execution_count": 53,
   "id": "1202935f",
   "metadata": {},
   "outputs": [
    {
     "data": {
      "text/html": [
       "<div>\n",
       "<style scoped>\n",
       "    .dataframe tbody tr th:only-of-type {\n",
       "        vertical-align: middle;\n",
       "    }\n",
       "\n",
       "    .dataframe tbody tr th {\n",
       "        vertical-align: top;\n",
       "    }\n",
       "\n",
       "    .dataframe thead th {\n",
       "        text-align: right;\n",
       "    }\n",
       "</style>\n",
       "<table border=\"1\" class=\"dataframe\">\n",
       "  <thead>\n",
       "    <tr style=\"text-align: right;\">\n",
       "      <th></th>\n",
       "      <th>symboling</th>\n",
       "      <th>normalized-losses</th>\n",
       "      <th>fuel-type</th>\n",
       "      <th>aspiration</th>\n",
       "      <th>num-of-doors</th>\n",
       "      <th>drive-wheels</th>\n",
       "      <th>engine-location</th>\n",
       "      <th>wheel-base</th>\n",
       "      <th>length</th>\n",
       "      <th>width</th>\n",
       "      <th>...</th>\n",
       "      <th>(nissan,)</th>\n",
       "      <th>(peugot,)</th>\n",
       "      <th>(plymouth,)</th>\n",
       "      <th>(porsche,)</th>\n",
       "      <th>(renault,)</th>\n",
       "      <th>(saab,)</th>\n",
       "      <th>(subaru,)</th>\n",
       "      <th>(toyota,)</th>\n",
       "      <th>(volkswagen,)</th>\n",
       "      <th>(volvo,)</th>\n",
       "    </tr>\n",
       "  </thead>\n",
       "  <tbody>\n",
       "    <tr>\n",
       "      <th>0</th>\n",
       "      <td>3</td>\n",
       "      <td>0</td>\n",
       "      <td>0</td>\n",
       "      <td>0</td>\n",
       "      <td>2</td>\n",
       "      <td>1</td>\n",
       "      <td>0</td>\n",
       "      <td>88.6</td>\n",
       "      <td>168.8</td>\n",
       "      <td>64.1</td>\n",
       "      <td>...</td>\n",
       "      <td>0.0</td>\n",
       "      <td>0.0</td>\n",
       "      <td>0.0</td>\n",
       "      <td>0.0</td>\n",
       "      <td>0.0</td>\n",
       "      <td>0.0</td>\n",
       "      <td>0.0</td>\n",
       "      <td>0.0</td>\n",
       "      <td>0.0</td>\n",
       "      <td>0.0</td>\n",
       "    </tr>\n",
       "    <tr>\n",
       "      <th>1</th>\n",
       "      <td>3</td>\n",
       "      <td>0</td>\n",
       "      <td>0</td>\n",
       "      <td>0</td>\n",
       "      <td>2</td>\n",
       "      <td>1</td>\n",
       "      <td>0</td>\n",
       "      <td>88.6</td>\n",
       "      <td>168.8</td>\n",
       "      <td>64.1</td>\n",
       "      <td>...</td>\n",
       "      <td>0.0</td>\n",
       "      <td>0.0</td>\n",
       "      <td>0.0</td>\n",
       "      <td>0.0</td>\n",
       "      <td>0.0</td>\n",
       "      <td>0.0</td>\n",
       "      <td>0.0</td>\n",
       "      <td>0.0</td>\n",
       "      <td>0.0</td>\n",
       "      <td>0.0</td>\n",
       "    </tr>\n",
       "    <tr>\n",
       "      <th>2</th>\n",
       "      <td>1</td>\n",
       "      <td>0</td>\n",
       "      <td>0</td>\n",
       "      <td>0</td>\n",
       "      <td>2</td>\n",
       "      <td>1</td>\n",
       "      <td>0</td>\n",
       "      <td>94.5</td>\n",
       "      <td>171.2</td>\n",
       "      <td>65.5</td>\n",
       "      <td>...</td>\n",
       "      <td>0.0</td>\n",
       "      <td>0.0</td>\n",
       "      <td>0.0</td>\n",
       "      <td>0.0</td>\n",
       "      <td>0.0</td>\n",
       "      <td>0.0</td>\n",
       "      <td>0.0</td>\n",
       "      <td>0.0</td>\n",
       "      <td>0.0</td>\n",
       "      <td>0.0</td>\n",
       "    </tr>\n",
       "    <tr>\n",
       "      <th>3</th>\n",
       "      <td>2</td>\n",
       "      <td>164</td>\n",
       "      <td>0</td>\n",
       "      <td>0</td>\n",
       "      <td>4</td>\n",
       "      <td>0</td>\n",
       "      <td>0</td>\n",
       "      <td>99.8</td>\n",
       "      <td>176.6</td>\n",
       "      <td>66.2</td>\n",
       "      <td>...</td>\n",
       "      <td>0.0</td>\n",
       "      <td>0.0</td>\n",
       "      <td>0.0</td>\n",
       "      <td>0.0</td>\n",
       "      <td>0.0</td>\n",
       "      <td>0.0</td>\n",
       "      <td>0.0</td>\n",
       "      <td>0.0</td>\n",
       "      <td>0.0</td>\n",
       "      <td>0.0</td>\n",
       "    </tr>\n",
       "    <tr>\n",
       "      <th>4</th>\n",
       "      <td>2</td>\n",
       "      <td>164</td>\n",
       "      <td>0</td>\n",
       "      <td>0</td>\n",
       "      <td>4</td>\n",
       "      <td>0</td>\n",
       "      <td>0</td>\n",
       "      <td>99.4</td>\n",
       "      <td>176.6</td>\n",
       "      <td>66.4</td>\n",
       "      <td>...</td>\n",
       "      <td>0.0</td>\n",
       "      <td>0.0</td>\n",
       "      <td>0.0</td>\n",
       "      <td>0.0</td>\n",
       "      <td>0.0</td>\n",
       "      <td>0.0</td>\n",
       "      <td>0.0</td>\n",
       "      <td>0.0</td>\n",
       "      <td>0.0</td>\n",
       "      <td>0.0</td>\n",
       "    </tr>\n",
       "  </tbody>\n",
       "</table>\n",
       "<p>5 rows × 64 columns</p>\n",
       "</div>"
      ],
      "text/plain": [
       "   symboling  normalized-losses  fuel-type  aspiration  num-of-doors  \\\n",
       "0          3                  0          0           0             2   \n",
       "1          3                  0          0           0             2   \n",
       "2          1                  0          0           0             2   \n",
       "3          2                164          0           0             4   \n",
       "4          2                164          0           0             4   \n",
       "\n",
       "   drive-wheels  engine-location  wheel-base  length  width  ...  (nissan,)  \\\n",
       "0             1                0        88.6   168.8   64.1  ...        0.0   \n",
       "1             1                0        88.6   168.8   64.1  ...        0.0   \n",
       "2             1                0        94.5   171.2   65.5  ...        0.0   \n",
       "3             0                0        99.8   176.6   66.2  ...        0.0   \n",
       "4             0                0        99.4   176.6   66.4  ...        0.0   \n",
       "\n",
       "   (peugot,)  (plymouth,)  (porsche,)  (renault,)  (saab,)  (subaru,)  \\\n",
       "0        0.0          0.0         0.0         0.0      0.0        0.0   \n",
       "1        0.0          0.0         0.0         0.0      0.0        0.0   \n",
       "2        0.0          0.0         0.0         0.0      0.0        0.0   \n",
       "3        0.0          0.0         0.0         0.0      0.0        0.0   \n",
       "4        0.0          0.0         0.0         0.0      0.0        0.0   \n",
       "\n",
       "   (toyota,)  (volkswagen,)  (volvo,)  \n",
       "0        0.0            0.0       0.0  \n",
       "1        0.0            0.0       0.0  \n",
       "2        0.0            0.0       0.0  \n",
       "3        0.0            0.0       0.0  \n",
       "4        0.0            0.0       0.0  \n",
       "\n",
       "[5 rows x 64 columns]"
      ]
     },
     "execution_count": 53,
     "metadata": {},
     "output_type": "execute_result"
    }
   ],
   "source": [
    "df.head()"
   ]
  },
  {
   "cell_type": "code",
   "execution_count": 54,
   "id": "d3f28e50",
   "metadata": {},
   "outputs": [
    {
     "name": "stdout",
     "output_type": "stream",
     "text": [
      "<class 'pandas.core.frame.DataFrame'>\n",
      "RangeIndex: 205 entries, 0 to 204\n",
      "Data columns (total 64 columns):\n",
      " #   Column             Non-Null Count  Dtype  \n",
      "---  ------             --------------  -----  \n",
      " 0   symboling          205 non-null    int64  \n",
      " 1   normalized-losses  205 non-null    int64  \n",
      " 2   fuel-type          205 non-null    int64  \n",
      " 3   aspiration         205 non-null    int64  \n",
      " 4   num-of-doors       205 non-null    int64  \n",
      " 5   drive-wheels       205 non-null    int64  \n",
      " 6   engine-location    205 non-null    int64  \n",
      " 7   wheel-base         205 non-null    float64\n",
      " 8   length             205 non-null    float64\n",
      " 9   width              205 non-null    float64\n",
      " 10  height             205 non-null    float64\n",
      " 11  curb-weight        205 non-null    int64  \n",
      " 12  num-of-cylinders   205 non-null    int64  \n",
      " 13  engine-size        205 non-null    int64  \n",
      " 14  bore               205 non-null    float64\n",
      " 15  stroke             205 non-null    float64\n",
      " 16  compression-ratio  205 non-null    float64\n",
      " 17  horsepower         205 non-null    int64  \n",
      " 18  peak-rpm           205 non-null    int64  \n",
      " 19  city-mpg           205 non-null    int64  \n",
      " 20  highway-mpg        205 non-null    int64  \n",
      " 21  price              205 non-null    int64  \n",
      " 22  (convertible,)     205 non-null    float64\n",
      " 23  (hardtop,)         205 non-null    float64\n",
      " 24  (hatchback,)       205 non-null    float64\n",
      " 25  (sedan,)           205 non-null    float64\n",
      " 26  (wagon,)           205 non-null    float64\n",
      " 27  (dohc,)            205 non-null    float64\n",
      " 28  (dohcv,)           205 non-null    float64\n",
      " 29  (l,)               205 non-null    float64\n",
      " 30  (ohc,)             205 non-null    float64\n",
      " 31  (ohcf,)            205 non-null    float64\n",
      " 32  (ohcv,)            205 non-null    float64\n",
      " 33  (rotor,)           205 non-null    float64\n",
      " 34  (1bbl,)            205 non-null    float64\n",
      " 35  (2bbl,)            205 non-null    float64\n",
      " 36  (4bbl,)            205 non-null    float64\n",
      " 37  (idi,)             205 non-null    float64\n",
      " 38  (mfi,)             205 non-null    float64\n",
      " 39  (mpfi,)            205 non-null    float64\n",
      " 40  (spdi,)            205 non-null    float64\n",
      " 41  (spfi,)            205 non-null    float64\n",
      " 42  (alfa-romero,)     205 non-null    float64\n",
      " 43  (audi,)            205 non-null    float64\n",
      " 44  (bmw,)             205 non-null    float64\n",
      " 45  (chevrolet,)       205 non-null    float64\n",
      " 46  (dodge,)           205 non-null    float64\n",
      " 47  (honda,)           205 non-null    float64\n",
      " 48  (isuzu,)           205 non-null    float64\n",
      " 49  (jaguar,)          205 non-null    float64\n",
      " 50  (mazda,)           205 non-null    float64\n",
      " 51  (mercedes-benz,)   205 non-null    float64\n",
      " 52  (mercury,)         205 non-null    float64\n",
      " 53  (mitsubishi,)      205 non-null    float64\n",
      " 54  (nissan,)          205 non-null    float64\n",
      " 55  (peugot,)          205 non-null    float64\n",
      " 56  (plymouth,)        205 non-null    float64\n",
      " 57  (porsche,)         205 non-null    float64\n",
      " 58  (renault,)         205 non-null    float64\n",
      " 59  (saab,)            205 non-null    float64\n",
      " 60  (subaru,)          205 non-null    float64\n",
      " 61  (toyota,)          205 non-null    float64\n",
      " 62  (volkswagen,)      205 non-null    float64\n",
      " 63  (volvo,)           205 non-null    float64\n",
      "dtypes: float64(49), int64(15)\n",
      "memory usage: 102.6 KB\n"
     ]
    }
   ],
   "source": [
    "df.info()"
   ]
  },
  {
   "cell_type": "markdown",
   "id": "c2d12970",
   "metadata": {},
   "source": [
    "# Check distribution of 0,1 in Dataset"
   ]
  },
  {
   "cell_type": "code",
   "execution_count": 55,
   "id": "8b327aff",
   "metadata": {},
   "outputs": [
    {
     "data": {
      "text/plain": [
       "0    168\n",
       "1     37\n",
       "Name: aspiration, dtype: int64"
      ]
     },
     "execution_count": 55,
     "metadata": {},
     "output_type": "execute_result"
    }
   ],
   "source": [
    "df['aspiration'].value_counts()"
   ]
  },
  {
   "cell_type": "code",
   "execution_count": 56,
   "id": "26504f28",
   "metadata": {},
   "outputs": [
    {
     "data": {
      "text/plain": [
       "0    202\n",
       "1      3\n",
       "Name: engine-location, dtype: int64"
      ]
     },
     "execution_count": 56,
     "metadata": {},
     "output_type": "execute_result"
    }
   ],
   "source": [
    "df['engine-location'].value_counts()"
   ]
  },
  {
   "cell_type": "code",
   "execution_count": 57,
   "id": "6aaba1ad",
   "metadata": {},
   "outputs": [
    {
     "data": {
      "text/plain": [
       "0    129\n",
       "1     76\n",
       "Name: drive-wheels, dtype: int64"
      ]
     },
     "execution_count": 57,
     "metadata": {},
     "output_type": "execute_result"
    }
   ],
   "source": [
    "df['drive-wheels'].value_counts()"
   ]
  },
  {
   "cell_type": "code",
   "execution_count": 58,
   "id": "74bc08c4",
   "metadata": {},
   "outputs": [
    {
     "data": {
      "text/plain": [
       "0    185\n",
       "1     20\n",
       "Name: fuel-type, dtype: int64"
      ]
     },
     "execution_count": 58,
     "metadata": {},
     "output_type": "execute_result"
    }
   ],
   "source": [
    "df['fuel-type'].value_counts()"
   ]
  },
  {
   "cell_type": "markdown",
   "id": "397ec4dc",
   "metadata": {},
   "source": [
    "# Plotting Histograms"
   ]
  },
  {
   "cell_type": "code",
   "execution_count": 59,
   "id": "bcd2c99e",
   "metadata": {},
   "outputs": [
    {
     "data": {
      "text/plain": [
       "array([[<AxesSubplot:title={'center':'symboling'}>,\n",
       "        <AxesSubplot:title={'center':'normalized-losses'}>,\n",
       "        <AxesSubplot:title={'center':'fuel-type'}>,\n",
       "        <AxesSubplot:title={'center':'aspiration'}>,\n",
       "        <AxesSubplot:title={'center':'num-of-doors'}>,\n",
       "        <AxesSubplot:title={'center':'drive-wheels'}>,\n",
       "        <AxesSubplot:title={'center':'engine-location'}>,\n",
       "        <AxesSubplot:title={'center':'wheel-base'}>],\n",
       "       [<AxesSubplot:title={'center':'length'}>,\n",
       "        <AxesSubplot:title={'center':'width'}>,\n",
       "        <AxesSubplot:title={'center':'height'}>,\n",
       "        <AxesSubplot:title={'center':'curb-weight'}>,\n",
       "        <AxesSubplot:title={'center':'num-of-cylinders'}>,\n",
       "        <AxesSubplot:title={'center':'engine-size'}>,\n",
       "        <AxesSubplot:title={'center':'bore'}>,\n",
       "        <AxesSubplot:title={'center':'stroke'}>],\n",
       "       [<AxesSubplot:title={'center':'compression-ratio'}>,\n",
       "        <AxesSubplot:title={'center':'horsepower'}>,\n",
       "        <AxesSubplot:title={'center':'peak-rpm'}>,\n",
       "        <AxesSubplot:title={'center':'city-mpg'}>,\n",
       "        <AxesSubplot:title={'center':'highway-mpg'}>,\n",
       "        <AxesSubplot:title={'center':'price'}>,\n",
       "        <AxesSubplot:title={'center':\"('convertible',)\"}>,\n",
       "        <AxesSubplot:title={'center':\"('hardtop',)\"}>],\n",
       "       [<AxesSubplot:title={'center':\"('hatchback',)\"}>,\n",
       "        <AxesSubplot:title={'center':\"('sedan',)\"}>,\n",
       "        <AxesSubplot:title={'center':\"('wagon',)\"}>,\n",
       "        <AxesSubplot:title={'center':\"('dohc',)\"}>,\n",
       "        <AxesSubplot:title={'center':\"('dohcv',)\"}>,\n",
       "        <AxesSubplot:title={'center':\"('l',)\"}>,\n",
       "        <AxesSubplot:title={'center':\"('ohc',)\"}>,\n",
       "        <AxesSubplot:title={'center':\"('ohcf',)\"}>],\n",
       "       [<AxesSubplot:title={'center':\"('ohcv',)\"}>,\n",
       "        <AxesSubplot:title={'center':\"('rotor',)\"}>,\n",
       "        <AxesSubplot:title={'center':\"('1bbl',)\"}>,\n",
       "        <AxesSubplot:title={'center':\"('2bbl',)\"}>,\n",
       "        <AxesSubplot:title={'center':\"('4bbl',)\"}>,\n",
       "        <AxesSubplot:title={'center':\"('idi',)\"}>,\n",
       "        <AxesSubplot:title={'center':\"('mfi',)\"}>,\n",
       "        <AxesSubplot:title={'center':\"('mpfi',)\"}>],\n",
       "       [<AxesSubplot:title={'center':\"('spdi',)\"}>,\n",
       "        <AxesSubplot:title={'center':\"('spfi',)\"}>,\n",
       "        <AxesSubplot:title={'center':\"('alfa-romero',)\"}>,\n",
       "        <AxesSubplot:title={'center':\"('audi',)\"}>,\n",
       "        <AxesSubplot:title={'center':\"('bmw',)\"}>,\n",
       "        <AxesSubplot:title={'center':\"('chevrolet',)\"}>,\n",
       "        <AxesSubplot:title={'center':\"('dodge',)\"}>,\n",
       "        <AxesSubplot:title={'center':\"('honda',)\"}>],\n",
       "       [<AxesSubplot:title={'center':\"('isuzu',)\"}>,\n",
       "        <AxesSubplot:title={'center':\"('jaguar',)\"}>,\n",
       "        <AxesSubplot:title={'center':\"('mazda',)\"}>,\n",
       "        <AxesSubplot:title={'center':\"('mercedes-benz',)\"}>,\n",
       "        <AxesSubplot:title={'center':\"('mercury',)\"}>,\n",
       "        <AxesSubplot:title={'center':\"('mitsubishi',)\"}>,\n",
       "        <AxesSubplot:title={'center':\"('nissan',)\"}>,\n",
       "        <AxesSubplot:title={'center':\"('peugot',)\"}>],\n",
       "       [<AxesSubplot:title={'center':\"('plymouth',)\"}>,\n",
       "        <AxesSubplot:title={'center':\"('porsche',)\"}>,\n",
       "        <AxesSubplot:title={'center':\"('renault',)\"}>,\n",
       "        <AxesSubplot:title={'center':\"('saab',)\"}>,\n",
       "        <AxesSubplot:title={'center':\"('subaru',)\"}>,\n",
       "        <AxesSubplot:title={'center':\"('toyota',)\"}>,\n",
       "        <AxesSubplot:title={'center':\"('volkswagen',)\"}>,\n",
       "        <AxesSubplot:title={'center':\"('volvo',)\"}>]], dtype=object)"
      ]
     },
     "execution_count": 59,
     "metadata": {},
     "output_type": "execute_result"
    },
    {
     "data": {
      "image/png": "[encoded data removed]",
      "text/plain": [
       "<Figure size 2880x1800 with 64 Axes>"
      ]
     },
     "metadata": {
      "needs_background": "light"
     },
     "output_type": "display_data"
    }
   ],
   "source": [
    "%matplotlib inline\n",
    "import matplotlib.pyplot as plt\n",
    "df.hist(bins=50,figsize=(40,25))"
   ]
  },
  {
   "cell_type": "markdown",
   "id": "2b67fd3f",
   "metadata": {},
   "source": [
    "# Train-Test Splitting"
   ]
  },
  {
   "cell_type": "code",
   "execution_count": 60,
   "id": "6e00c378",
   "metadata": {},
   "outputs": [],
   "source": [
    "from sklearn.model_selection import train_test_split"
   ]
  },
  {
   "cell_type": "code",
   "execution_count": 61,
   "id": "bc17fb7d",
   "metadata": {},
   "outputs": [],
   "source": [
    "train_set,test_set = train_test_split(df,test_size = 0.2 , random_state = 42)"
   ]
  },
  {
   "cell_type": "code",
   "execution_count": 62,
   "id": "70fe293d",
   "metadata": {},
   "outputs": [
    {
     "name": "stdout",
     "output_type": "stream",
     "text": [
      "Rows in train set:164\n",
      " Rows in test set:41\n",
      "\n"
     ]
    }
   ],
   "source": [
    "print(f\"Rows in train set:{len(train_set)}\\n Rows in test set:{len(test_set)}\\n\")"
   ]
  },
  {
   "cell_type": "code",
   "execution_count": 63,
   "id": "5f1d9e5d",
   "metadata": {},
   "outputs": [],
   "source": [
    "# equal distribution of 0,1--------------using Stratified Sampling"
   ]
  },
  {
   "cell_type": "code",
   "execution_count": 64,
   "id": "7c19d931",
   "metadata": {},
   "outputs": [],
   "source": [
    "from sklearn.model_selection import StratifiedShuffleSplit"
   ]
  },
  {
   "cell_type": "code",
   "execution_count": 65,
   "id": "0aa104f7",
   "metadata": {},
   "outputs": [],
   "source": [
    "split = StratifiedShuffleSplit(n_splits=1, test_size=0.2,random_state=42)"
   ]
  },
  {
   "cell_type": "code",
   "execution_count": 66,
   "id": "a23df624",
   "metadata": {},
   "outputs": [],
   "source": [
    "for train_index,test_index in split.split(df,df['fuel-type'],df['drive-wheels']):\n",
    "    strat_train_set= df.loc[train_index]\n",
    "    strat_test_set= df.loc[test_index]"
   ]
  },
  {
   "cell_type": "code",
   "execution_count": 67,
   "id": "68b0f0bd",
   "metadata": {},
   "outputs": [],
   "source": [
    "for train_index,test_index in split.split(df,df['aspiration'],df['engine-location']):\n",
    "        strat_train_set= df.loc[train_index]\n",
    "        strat_test_set= df.loc[test_index]    "
   ]
  },
  {
   "cell_type": "code",
   "execution_count": 68,
   "id": "52f6e7d0",
   "metadata": {},
   "outputs": [],
   "source": [
    "#strat_test_set"
   ]
  },
  {
   "cell_type": "code",
   "execution_count": 69,
   "id": "56b14e29",
   "metadata": {},
   "outputs": [
    {
     "data": {
      "text/html": [
       "<div>\n",
       "<style scoped>\n",
       "    .dataframe tbody tr th:only-of-type {\n",
       "        vertical-align: middle;\n",
       "    }\n",
       "\n",
       "    .dataframe tbody tr th {\n",
       "        vertical-align: top;\n",
       "    }\n",
       "\n",
       "    .dataframe thead th {\n",
       "        text-align: right;\n",
       "    }\n",
       "</style>\n",
       "<table border=\"1\" class=\"dataframe\">\n",
       "  <thead>\n",
       "    <tr style=\"text-align: right;\">\n",
       "      <th></th>\n",
       "      <th>symboling</th>\n",
       "      <th>normalized-losses</th>\n",
       "      <th>fuel-type</th>\n",
       "      <th>aspiration</th>\n",
       "      <th>num-of-doors</th>\n",
       "      <th>drive-wheels</th>\n",
       "      <th>engine-location</th>\n",
       "      <th>wheel-base</th>\n",
       "      <th>length</th>\n",
       "      <th>width</th>\n",
       "      <th>...</th>\n",
       "      <th>(nissan,)</th>\n",
       "      <th>(peugot,)</th>\n",
       "      <th>(plymouth,)</th>\n",
       "      <th>(porsche,)</th>\n",
       "      <th>(renault,)</th>\n",
       "      <th>(saab,)</th>\n",
       "      <th>(subaru,)</th>\n",
       "      <th>(toyota,)</th>\n",
       "      <th>(volkswagen,)</th>\n",
       "      <th>(volvo,)</th>\n",
       "    </tr>\n",
       "  </thead>\n",
       "  <tbody>\n",
       "    <tr>\n",
       "      <th>count</th>\n",
       "      <td>41.000000</td>\n",
       "      <td>41.000000</td>\n",
       "      <td>41.000000</td>\n",
       "      <td>41.000000</td>\n",
       "      <td>41.000000</td>\n",
       "      <td>41.000000</td>\n",
       "      <td>41.000000</td>\n",
       "      <td>41.000000</td>\n",
       "      <td>41.000000</td>\n",
       "      <td>41.000000</td>\n",
       "      <td>...</td>\n",
       "      <td>41.000000</td>\n",
       "      <td>41.000000</td>\n",
       "      <td>41.000000</td>\n",
       "      <td>41.000000</td>\n",
       "      <td>41.000000</td>\n",
       "      <td>41.000000</td>\n",
       "      <td>41.000000</td>\n",
       "      <td>41.000000</td>\n",
       "      <td>41.000000</td>\n",
       "      <td>41.000000</td>\n",
       "    </tr>\n",
       "    <tr>\n",
       "      <th>mean</th>\n",
       "      <td>0.829268</td>\n",
       "      <td>97.268293</td>\n",
       "      <td>0.195122</td>\n",
       "      <td>0.170732</td>\n",
       "      <td>2.926829</td>\n",
       "      <td>0.463415</td>\n",
       "      <td>0.048780</td>\n",
       "      <td>98.631707</td>\n",
       "      <td>175.331707</td>\n",
       "      <td>66.146341</td>\n",
       "      <td>...</td>\n",
       "      <td>0.073171</td>\n",
       "      <td>0.048780</td>\n",
       "      <td>0.024390</td>\n",
       "      <td>0.048780</td>\n",
       "      <td>0.024390</td>\n",
       "      <td>0.024390</td>\n",
       "      <td>0.048780</td>\n",
       "      <td>0.170732</td>\n",
       "      <td>0.048780</td>\n",
       "      <td>0.121951</td>\n",
       "    </tr>\n",
       "    <tr>\n",
       "      <th>std</th>\n",
       "      <td>1.563689</td>\n",
       "      <td>56.662167</td>\n",
       "      <td>0.401218</td>\n",
       "      <td>0.380949</td>\n",
       "      <td>1.104315</td>\n",
       "      <td>0.504854</td>\n",
       "      <td>0.218085</td>\n",
       "      <td>5.642891</td>\n",
       "      <td>10.471281</td>\n",
       "      <td>1.793753</td>\n",
       "      <td>...</td>\n",
       "      <td>0.263652</td>\n",
       "      <td>0.218085</td>\n",
       "      <td>0.156174</td>\n",
       "      <td>0.218085</td>\n",
       "      <td>0.156174</td>\n",
       "      <td>0.156174</td>\n",
       "      <td>0.218085</td>\n",
       "      <td>0.380949</td>\n",
       "      <td>0.218085</td>\n",
       "      <td>0.331295</td>\n",
       "    </tr>\n",
       "    <tr>\n",
       "      <th>min</th>\n",
       "      <td>-2.000000</td>\n",
       "      <td>0.000000</td>\n",
       "      <td>0.000000</td>\n",
       "      <td>0.000000</td>\n",
       "      <td>0.000000</td>\n",
       "      <td>0.000000</td>\n",
       "      <td>0.000000</td>\n",
       "      <td>88.600000</td>\n",
       "      <td>157.300000</td>\n",
       "      <td>63.600000</td>\n",
       "      <td>...</td>\n",
       "      <td>0.000000</td>\n",
       "      <td>0.000000</td>\n",
       "      <td>0.000000</td>\n",
       "      <td>0.000000</td>\n",
       "      <td>0.000000</td>\n",
       "      <td>0.000000</td>\n",
       "      <td>0.000000</td>\n",
       "      <td>0.000000</td>\n",
       "      <td>0.000000</td>\n",
       "      <td>0.000000</td>\n",
       "    </tr>\n",
       "    <tr>\n",
       "      <th>25%</th>\n",
       "      <td>0.000000</td>\n",
       "      <td>74.000000</td>\n",
       "      <td>0.000000</td>\n",
       "      <td>0.000000</td>\n",
       "      <td>2.000000</td>\n",
       "      <td>0.000000</td>\n",
       "      <td>0.000000</td>\n",
       "      <td>95.300000</td>\n",
       "      <td>168.900000</td>\n",
       "      <td>64.600000</td>\n",
       "      <td>...</td>\n",
       "      <td>0.000000</td>\n",
       "      <td>0.000000</td>\n",
       "      <td>0.000000</td>\n",
       "      <td>0.000000</td>\n",
       "      <td>0.000000</td>\n",
       "      <td>0.000000</td>\n",
       "      <td>0.000000</td>\n",
       "      <td>0.000000</td>\n",
       "      <td>0.000000</td>\n",
       "      <td>0.000000</td>\n",
       "    </tr>\n",
       "    <tr>\n",
       "      <th>50%</th>\n",
       "      <td>1.000000</td>\n",
       "      <td>103.000000</td>\n",
       "      <td>0.000000</td>\n",
       "      <td>0.000000</td>\n",
       "      <td>2.000000</td>\n",
       "      <td>0.000000</td>\n",
       "      <td>0.000000</td>\n",
       "      <td>97.200000</td>\n",
       "      <td>174.600000</td>\n",
       "      <td>66.000000</td>\n",
       "      <td>...</td>\n",
       "      <td>0.000000</td>\n",
       "      <td>0.000000</td>\n",
       "      <td>0.000000</td>\n",
       "      <td>0.000000</td>\n",
       "      <td>0.000000</td>\n",
       "      <td>0.000000</td>\n",
       "      <td>0.000000</td>\n",
       "      <td>0.000000</td>\n",
       "      <td>0.000000</td>\n",
       "      <td>0.000000</td>\n",
       "    </tr>\n",
       "    <tr>\n",
       "      <th>75%</th>\n",
       "      <td>2.000000</td>\n",
       "      <td>134.000000</td>\n",
       "      <td>0.000000</td>\n",
       "      <td>0.000000</td>\n",
       "      <td>4.000000</td>\n",
       "      <td>1.000000</td>\n",
       "      <td>0.000000</td>\n",
       "      <td>103.300000</td>\n",
       "      <td>186.600000</td>\n",
       "      <td>67.200000</td>\n",
       "      <td>...</td>\n",
       "      <td>0.000000</td>\n",
       "      <td>0.000000</td>\n",
       "      <td>0.000000</td>\n",
       "      <td>0.000000</td>\n",
       "      <td>0.000000</td>\n",
       "      <td>0.000000</td>\n",
       "      <td>0.000000</td>\n",
       "      <td>0.000000</td>\n",
       "      <td>0.000000</td>\n",
       "      <td>0.000000</td>\n",
       "    </tr>\n",
       "    <tr>\n",
       "      <th>max</th>\n",
       "      <td>3.000000</td>\n",
       "      <td>197.000000</td>\n",
       "      <td>1.000000</td>\n",
       "      <td>1.000000</td>\n",
       "      <td>4.000000</td>\n",
       "      <td>1.000000</td>\n",
       "      <td>1.000000</td>\n",
       "      <td>110.000000</td>\n",
       "      <td>193.800000</td>\n",
       "      <td>70.500000</td>\n",
       "      <td>...</td>\n",
       "      <td>1.000000</td>\n",
       "      <td>1.000000</td>\n",
       "      <td>1.000000</td>\n",
       "      <td>1.000000</td>\n",
       "      <td>1.000000</td>\n",
       "      <td>1.000000</td>\n",
       "      <td>1.000000</td>\n",
       "      <td>1.000000</td>\n",
       "      <td>1.000000</td>\n",
       "      <td>1.000000</td>\n",
       "    </tr>\n",
       "  </tbody>\n",
       "</table>\n",
       "<p>8 rows × 64 columns</p>\n",
       "</div>"
      ],
      "text/plain": [
       "       symboling  normalized-losses  fuel-type  aspiration  num-of-doors  \\\n",
       "count  41.000000          41.000000  41.000000   41.000000     41.000000   \n",
       "mean    0.829268          97.268293   0.195122    0.170732      2.926829   \n",
       "std     1.563689          56.662167   0.401218    0.380949      1.104315   \n",
       "min    -2.000000           0.000000   0.000000    0.000000      0.000000   \n",
       "25%     0.000000          74.000000   0.000000    0.000000      2.000000   \n",
       "50%     1.000000         103.000000   0.000000    0.000000      2.000000   \n",
       "75%     2.000000         134.000000   0.000000    0.000000      4.000000   \n",
       "max     3.000000         197.000000   1.000000    1.000000      4.000000   \n",
       "\n",
       "       drive-wheels  engine-location  wheel-base      length      width  ...  \\\n",
       "count     41.000000        41.000000   41.000000   41.000000  41.000000  ...   \n",
       "mean       0.463415         0.048780   98.631707  175.331707  66.146341  ...   \n",
       "std        0.504854         0.218085    5.642891   10.471281   1.793753  ...   \n",
       "min        0.000000         0.000000   88.600000  157.300000  63.600000  ...   \n",
       "25%        0.000000         0.000000   95.300000  168.900000  64.600000  ...   \n",
       "50%        0.000000         0.000000   97.200000  174.600000  66.000000  ...   \n",
       "75%        1.000000         0.000000  103.300000  186.600000  67.200000  ...   \n",
       "max        1.000000         1.000000  110.000000  193.800000  70.500000  ...   \n",
       "\n",
       "       (nissan,)  (peugot,)  (plymouth,)  (porsche,)  (renault,)    (saab,)  \\\n",
       "count  41.000000  41.000000    41.000000   41.000000   41.000000  41.000000   \n",
       "mean    0.073171   0.048780     0.024390    0.048780    0.024390   0.024390   \n",
       "std     0.263652   0.218085     0.156174    0.218085    0.156174   0.156174   \n",
       "min     0.000000   0.000000     0.000000    0.000000    0.000000   0.000000   \n",
       "25%     0.000000   0.000000     0.000000    0.000000    0.000000   0.000000   \n",
       "50%     0.000000   0.000000     0.000000    0.000000    0.000000   0.000000   \n",
       "75%     0.000000   0.000000     0.000000    0.000000    0.000000   0.000000   \n",
       "max     1.000000   1.000000     1.000000    1.000000    1.000000   1.000000   \n",
       "\n",
       "       (subaru,)  (toyota,)  (volkswagen,)   (volvo,)  \n",
       "count  41.000000  41.000000      41.000000  41.000000  \n",
       "mean    0.048780   0.170732       0.048780   0.121951  \n",
       "std     0.218085   0.380949       0.218085   0.331295  \n",
       "min     0.000000   0.000000       0.000000   0.000000  \n",
       "25%     0.000000   0.000000       0.000000   0.000000  \n",
       "50%     0.000000   0.000000       0.000000   0.000000  \n",
       "75%     0.000000   0.000000       0.000000   0.000000  \n",
       "max     1.000000   1.000000       1.000000   1.000000  \n",
       "\n",
       "[8 rows x 64 columns]"
      ]
     },
     "execution_count": 69,
     "metadata": {},
     "output_type": "execute_result"
    }
   ],
   "source": [
    "strat_test_set.describe()"
   ]
  },
  {
   "cell_type": "code",
   "execution_count": 70,
   "id": "ff2a518d",
   "metadata": {},
   "outputs": [
    {
     "data": {
      "text/plain": [
       "0    34\n",
       "1     7\n",
       "Name: aspiration, dtype: int64"
      ]
     },
     "execution_count": 70,
     "metadata": {},
     "output_type": "execute_result"
    }
   ],
   "source": [
    "strat_test_set['aspiration'].value_counts()"
   ]
  },
  {
   "cell_type": "code",
   "execution_count": 71,
   "id": "43bbbab2",
   "metadata": {},
   "outputs": [
    {
     "data": {
      "text/plain": [
       "0    134\n",
       "1     30\n",
       "Name: aspiration, dtype: int64"
      ]
     },
     "execution_count": 71,
     "metadata": {},
     "output_type": "execute_result"
    }
   ],
   "source": [
    "strat_train_set['aspiration'].value_counts()"
   ]
  },
  {
   "cell_type": "code",
   "execution_count": 72,
   "id": "aafa89b6",
   "metadata": {},
   "outputs": [
    {
     "data": {
      "text/plain": [
       "0    33\n",
       "1     8\n",
       "Name: fuel-type, dtype: int64"
      ]
     },
     "execution_count": 72,
     "metadata": {},
     "output_type": "execute_result"
    }
   ],
   "source": [
    "strat_test_set['fuel-type'].value_counts()"
   ]
  },
  {
   "cell_type": "code",
   "execution_count": 73,
   "id": "7898487c",
   "metadata": {},
   "outputs": [
    {
     "data": {
      "text/plain": [
       "0    152\n",
       "1     12\n",
       "Name: fuel-type, dtype: int64"
      ]
     },
     "execution_count": 73,
     "metadata": {},
     "output_type": "execute_result"
    }
   ],
   "source": [
    "strat_train_set['fuel-type'].value_counts()"
   ]
  },
  {
   "cell_type": "code",
   "execution_count": 74,
   "id": "a96000fd",
   "metadata": {},
   "outputs": [
    {
     "data": {
      "text/plain": [
       "0    22\n",
       "1    19\n",
       "Name: drive-wheels, dtype: int64"
      ]
     },
     "execution_count": 74,
     "metadata": {},
     "output_type": "execute_result"
    }
   ],
   "source": [
    "strat_test_set['drive-wheels'].value_counts()"
   ]
  },
  {
   "cell_type": "code",
   "execution_count": 75,
   "id": "f1d012df",
   "metadata": {},
   "outputs": [
    {
     "data": {
      "text/plain": [
       "0    107\n",
       "1     57\n",
       "Name: drive-wheels, dtype: int64"
      ]
     },
     "execution_count": 75,
     "metadata": {},
     "output_type": "execute_result"
    }
   ],
   "source": [
    "strat_train_set['drive-wheels'].value_counts()"
   ]
  },
  {
   "cell_type": "code",
   "execution_count": 76,
   "id": "2cb16c49",
   "metadata": {},
   "outputs": [],
   "source": [
    "# therefore all 0s and 1s are equally distributed in test and train data"
   ]
  },
  {
   "cell_type": "code",
   "execution_count": 77,
   "id": "c723aa9a",
   "metadata": {},
   "outputs": [],
   "source": [
    "df = strat_train_set.copy()"
   ]
  },
  {
   "cell_type": "markdown",
   "id": "fe37efa1",
   "metadata": {},
   "source": [
    "# Looking For Correlations"
   ]
  },
  {
   "cell_type": "code",
   "execution_count": 78,
   "id": "1a0f2d46",
   "metadata": {},
   "outputs": [],
   "source": [
    "corr_matrix = df.corr()"
   ]
  },
  {
   "cell_type": "code",
   "execution_count": 79,
   "id": "161c90ee",
   "metadata": {},
   "outputs": [
    {
     "data": {
      "text/plain": [
       "curb-weight          1.000000\n",
       "length               0.885975\n",
       "width                0.864571\n",
       "engine-size          0.854440\n",
       "price                0.815834\n",
       "                       ...   \n",
       "normalized-losses   -0.308032\n",
       "(ohc,)              -0.413154\n",
       "(2bbl,)             -0.588678\n",
       "city-mpg            -0.786349\n",
       "highway-mpg         -0.815744\n",
       "Name: curb-weight, Length: 64, dtype: float64"
      ]
     },
     "execution_count": 79,
     "metadata": {},
     "output_type": "execute_result"
    }
   ],
   "source": [
    "corr_matrix['curb-weight'].sort_values(ascending=False)"
   ]
  },
  {
   "cell_type": "markdown",
   "id": "ee809995",
   "metadata": {},
   "source": [
    "# Plotting Graphs"
   ]
  },
  {
   "cell_type": "code",
   "execution_count": 80,
   "id": "1cb0b4b3",
   "metadata": {},
   "outputs": [],
   "source": [
    "from pandas.plotting import scatter_matrix\n",
    "attributes = [\"price\",\"length\",\"width\",\"height\"]"
   ]
  },
  {
   "cell_type": "code",
   "execution_count": 81,
   "id": "125bff52",
   "metadata": {},
   "outputs": [
    {
     "data": {
      "text/plain": [
       "array([[<AxesSubplot:xlabel='price', ylabel='price'>,\n",
       "        <AxesSubplot:xlabel='length', ylabel='price'>,\n",
       "        <AxesSubplot:xlabel='width', ylabel='price'>,\n",
       "        <AxesSubplot:xlabel='height', ylabel='price'>],\n",
       "       [<AxesSubplot:xlabel='price', ylabel='length'>,\n",
       "        <AxesSubplot:xlabel='length', ylabel='length'>,\n",
       "        <AxesSubplot:xlabel='width', ylabel='length'>,\n",
       "        <AxesSubplot:xlabel='height', ylabel='length'>],\n",
       "       [<AxesSubplot:xlabel='price', ylabel='width'>,\n",
       "        <AxesSubplot:xlabel='length', ylabel='width'>,\n",
       "        <AxesSubplot:xlabel='width', ylabel='width'>,\n",
       "        <AxesSubplot:xlabel='height', ylabel='width'>],\n",
       "       [<AxesSubplot:xlabel='price', ylabel='height'>,\n",
       "        <AxesSubplot:xlabel='length', ylabel='height'>,\n",
       "        <AxesSubplot:xlabel='width', ylabel='height'>,\n",
       "        <AxesSubplot:xlabel='height', ylabel='height'>]], dtype=object)"
      ]
     },
     "execution_count": 81,
     "metadata": {},
     "output_type": "execute_result"
    },
    {
     "data": {
      "image/png": "[encoded data removed]",
      "text/plain": [
       "<Figure size 864x576 with 16 Axes>"
      ]
     },
     "metadata": {
      "needs_background": "light"
     },
     "output_type": "display_data"
    }
   ],
   "source": [
    "scatter_matrix(df[attributes],figsize=(12,8))"
   ]
  },
  {
   "cell_type": "code",
   "execution_count": 82,
   "id": "14d39f34",
   "metadata": {},
   "outputs": [
    {
     "data": {
      "text/plain": [
       "<AxesSubplot:xlabel='height', ylabel='price'>"
      ]
     },
     "execution_count": 82,
     "metadata": {},
     "output_type": "execute_result"
    },
    {
     "data": {
      "image/png": "[encoded data removed]",
      "text/plain": [
       "<Figure size 432x288 with 1 Axes>"
      ]
     },
     "metadata": {
      "needs_background": "light"
     },
     "output_type": "display_data"
    }
   ],
   "source": [
    "df.plot(kind=\"scatter\",x=\"height\",y=\"price\",alpha=0.8)"
   ]
  },
  {
   "cell_type": "markdown",
   "id": "1af2b585",
   "metadata": {},
   "source": [
    "# Splitting Features and Labels"
   ]
  },
  {
   "cell_type": "code",
   "execution_count": 83,
   "id": "68362ba9",
   "metadata": {},
   "outputs": [],
   "source": [
    "df= strat_train_set.drop(\"price\",axis=1)\n",
    "df_labels = strat_train_set[\"price\"].copy()"
   ]
  },
  {
   "cell_type": "code",
   "execution_count": 84,
   "id": "9601810e",
   "metadata": {},
   "outputs": [
    {
     "data": {
      "text/html": [
       "<div>\n",
       "<style scoped>\n",
       "    .dataframe tbody tr th:only-of-type {\n",
       "        vertical-align: middle;\n",
       "    }\n",
       "\n",
       "    .dataframe tbody tr th {\n",
       "        vertical-align: top;\n",
       "    }\n",
       "\n",
       "    .dataframe thead th {\n",
       "        text-align: right;\n",
       "    }\n",
       "</style>\n",
       "<table border=\"1\" class=\"dataframe\">\n",
       "  <thead>\n",
       "    <tr style=\"text-align: right;\">\n",
       "      <th></th>\n",
       "      <th>symboling</th>\n",
       "      <th>normalized-losses</th>\n",
       "      <th>fuel-type</th>\n",
       "      <th>aspiration</th>\n",
       "      <th>num-of-doors</th>\n",
       "      <th>drive-wheels</th>\n",
       "      <th>engine-location</th>\n",
       "      <th>wheel-base</th>\n",
       "      <th>length</th>\n",
       "      <th>width</th>\n",
       "      <th>...</th>\n",
       "      <th>(nissan,)</th>\n",
       "      <th>(peugot,)</th>\n",
       "      <th>(plymouth,)</th>\n",
       "      <th>(porsche,)</th>\n",
       "      <th>(renault,)</th>\n",
       "      <th>(saab,)</th>\n",
       "      <th>(subaru,)</th>\n",
       "      <th>(toyota,)</th>\n",
       "      <th>(volkswagen,)</th>\n",
       "      <th>(volvo,)</th>\n",
       "    </tr>\n",
       "  </thead>\n",
       "  <tbody>\n",
       "    <tr>\n",
       "      <th>173</th>\n",
       "      <td>-1</td>\n",
       "      <td>65</td>\n",
       "      <td>0</td>\n",
       "      <td>0</td>\n",
       "      <td>4</td>\n",
       "      <td>0</td>\n",
       "      <td>0</td>\n",
       "      <td>102.4</td>\n",
       "      <td>175.6</td>\n",
       "      <td>66.5</td>\n",
       "      <td>...</td>\n",
       "      <td>0.0</td>\n",
       "      <td>0.0</td>\n",
       "      <td>0.0</td>\n",
       "      <td>0.0</td>\n",
       "      <td>0.0</td>\n",
       "      <td>0.0</td>\n",
       "      <td>0.0</td>\n",
       "      <td>1.0</td>\n",
       "      <td>0.0</td>\n",
       "      <td>0.0</td>\n",
       "    </tr>\n",
       "    <tr>\n",
       "      <th>48</th>\n",
       "      <td>0</td>\n",
       "      <td>0</td>\n",
       "      <td>0</td>\n",
       "      <td>0</td>\n",
       "      <td>4</td>\n",
       "      <td>1</td>\n",
       "      <td>0</td>\n",
       "      <td>113.0</td>\n",
       "      <td>199.6</td>\n",
       "      <td>69.6</td>\n",
       "      <td>...</td>\n",
       "      <td>0.0</td>\n",
       "      <td>0.0</td>\n",
       "      <td>0.0</td>\n",
       "      <td>0.0</td>\n",
       "      <td>0.0</td>\n",
       "      <td>0.0</td>\n",
       "      <td>0.0</td>\n",
       "      <td>0.0</td>\n",
       "      <td>0.0</td>\n",
       "      <td>0.0</td>\n",
       "    </tr>\n",
       "    <tr>\n",
       "      <th>39</th>\n",
       "      <td>0</td>\n",
       "      <td>85</td>\n",
       "      <td>0</td>\n",
       "      <td>0</td>\n",
       "      <td>4</td>\n",
       "      <td>0</td>\n",
       "      <td>0</td>\n",
       "      <td>96.5</td>\n",
       "      <td>175.4</td>\n",
       "      <td>65.2</td>\n",
       "      <td>...</td>\n",
       "      <td>0.0</td>\n",
       "      <td>0.0</td>\n",
       "      <td>0.0</td>\n",
       "      <td>0.0</td>\n",
       "      <td>0.0</td>\n",
       "      <td>0.0</td>\n",
       "      <td>0.0</td>\n",
       "      <td>0.0</td>\n",
       "      <td>0.0</td>\n",
       "      <td>0.0</td>\n",
       "    </tr>\n",
       "    <tr>\n",
       "      <th>31</th>\n",
       "      <td>2</td>\n",
       "      <td>137</td>\n",
       "      <td>0</td>\n",
       "      <td>0</td>\n",
       "      <td>2</td>\n",
       "      <td>0</td>\n",
       "      <td>0</td>\n",
       "      <td>86.6</td>\n",
       "      <td>144.6</td>\n",
       "      <td>63.9</td>\n",
       "      <td>...</td>\n",
       "      <td>0.0</td>\n",
       "      <td>0.0</td>\n",
       "      <td>0.0</td>\n",
       "      <td>0.0</td>\n",
       "      <td>0.0</td>\n",
       "      <td>0.0</td>\n",
       "      <td>0.0</td>\n",
       "      <td>0.0</td>\n",
       "      <td>0.0</td>\n",
       "      <td>0.0</td>\n",
       "    </tr>\n",
       "    <tr>\n",
       "      <th>191</th>\n",
       "      <td>0</td>\n",
       "      <td>0</td>\n",
       "      <td>0</td>\n",
       "      <td>0</td>\n",
       "      <td>4</td>\n",
       "      <td>0</td>\n",
       "      <td>0</td>\n",
       "      <td>100.4</td>\n",
       "      <td>180.2</td>\n",
       "      <td>66.9</td>\n",
       "      <td>...</td>\n",
       "      <td>0.0</td>\n",
       "      <td>0.0</td>\n",
       "      <td>0.0</td>\n",
       "      <td>0.0</td>\n",
       "      <td>0.0</td>\n",
       "      <td>0.0</td>\n",
       "      <td>0.0</td>\n",
       "      <td>0.0</td>\n",
       "      <td>1.0</td>\n",
       "      <td>0.0</td>\n",
       "    </tr>\n",
       "  </tbody>\n",
       "</table>\n",
       "<p>5 rows × 63 columns</p>\n",
       "</div>"
      ],
      "text/plain": [
       "     symboling  normalized-losses  fuel-type  aspiration  num-of-doors  \\\n",
       "173         -1                 65          0           0             4   \n",
       "48           0                  0          0           0             4   \n",
       "39           0                 85          0           0             4   \n",
       "31           2                137          0           0             2   \n",
       "191          0                  0          0           0             4   \n",
       "\n",
       "     drive-wheels  engine-location  wheel-base  length  width  ...  (nissan,)  \\\n",
       "173             0                0       102.4   175.6   66.5  ...        0.0   \n",
       "48              1                0       113.0   199.6   69.6  ...        0.0   \n",
       "39              0                0        96.5   175.4   65.2  ...        0.0   \n",
       "31              0                0        86.6   144.6   63.9  ...        0.0   \n",
       "191             0                0       100.4   180.2   66.9  ...        0.0   \n",
       "\n",
       "     (peugot,)  (plymouth,)  (porsche,)  (renault,)  (saab,)  (subaru,)  \\\n",
       "173        0.0          0.0         0.0         0.0      0.0        0.0   \n",
       "48         0.0          0.0         0.0         0.0      0.0        0.0   \n",
       "39         0.0          0.0         0.0         0.0      0.0        0.0   \n",
       "31         0.0          0.0         0.0         0.0      0.0        0.0   \n",
       "191        0.0          0.0         0.0         0.0      0.0        0.0   \n",
       "\n",
       "     (toyota,)  (volkswagen,)  (volvo,)  \n",
       "173        1.0            0.0       0.0  \n",
       "48         0.0            0.0       0.0  \n",
       "39         0.0            0.0       0.0  \n",
       "31         0.0            0.0       0.0  \n",
       "191        0.0            1.0       0.0  \n",
       "\n",
       "[5 rows x 63 columns]"
      ]
     },
     "execution_count": 84,
     "metadata": {},
     "output_type": "execute_result"
    }
   ],
   "source": [
    "df.head()"
   ]
  },
  {
   "cell_type": "code",
   "execution_count": 85,
   "id": "f450e3f4",
   "metadata": {},
   "outputs": [
    {
     "data": {
      "text/plain": [
       "173     8948\n",
       "48     35550\n",
       "39      8845\n",
       "31      6855\n",
       "191    13295\n",
       "Name: price, dtype: int64"
      ]
     },
     "execution_count": 85,
     "metadata": {},
     "output_type": "execute_result"
    }
   ],
   "source": [
    "df_labels.head()"
   ]
  },
  {
   "cell_type": "markdown",
   "id": "dc173c6d",
   "metadata": {},
   "source": [
    "# Create Pipeline"
   ]
  },
  {
   "cell_type": "code",
   "execution_count": 86,
   "id": "eb654c20",
   "metadata": {},
   "outputs": [],
   "source": [
    "from sklearn.pipeline import Pipeline \n",
    "from sklearn.preprocessing import StandardScaler\n",
    "from sklearn.impute import SimpleImputer"
   ]
  },
  {
   "cell_type": "code",
   "execution_count": 87,
   "id": "cf2a7c3f",
   "metadata": {},
   "outputs": [],
   "source": [
    "my_pipeline = Pipeline([('imputer',SimpleImputer(strategy=\"median\")),\n",
    "                       ('std_scaler',StandardScaler())])"
   ]
  },
  {
   "cell_type": "code",
   "execution_count": 88,
   "id": "63074d34",
   "metadata": {},
   "outputs": [
    {
     "data": {
      "text/plain": [
       "(164, 63)"
      ]
     },
     "execution_count": 88,
     "metadata": {},
     "output_type": "execute_result"
    }
   ],
   "source": [
    "df_num = my_pipeline.fit_transform(df)\n",
    "df_num.shape"
   ]
  },
  {
   "cell_type": "markdown",
   "id": "8ae0d939",
   "metadata": {},
   "source": [
    "# Selecting a Desired MODEl for Project"
   ]
  },
  {
   "cell_type": "code",
   "execution_count": 89,
   "id": "d599b310",
   "metadata": {},
   "outputs": [],
   "source": [
    "#from sklearn.linear_model import LinearRegression\n",
    "#from sklearn.tree import DecisionTreeRegressor\n",
    "#model = DecisionTreeRegressor()\n",
    "#model = LinearRegression()\n",
    "from sklearn.ensemble import RandomForestRegressor\n",
    "model = RandomForestRegressor()"
   ]
  },
  {
   "cell_type": "code",
   "execution_count": 90,
   "id": "42aadbd2",
   "metadata": {},
   "outputs": [
    {
     "data": {
      "text/plain": [
       "RandomForestRegressor()"
      ]
     },
     "execution_count": 90,
     "metadata": {},
     "output_type": "execute_result"
    }
   ],
   "source": [
    "model.fit(df_num,df_labels)"
   ]
  },
  {
   "cell_type": "code",
   "execution_count": 91,
   "id": "4de3a836",
   "metadata": {},
   "outputs": [],
   "source": [
    "some_data = df.iloc[:5]"
   ]
  },
  {
   "cell_type": "code",
   "execution_count": 92,
   "id": "44c787ee",
   "metadata": {},
   "outputs": [],
   "source": [
    "some_labels = df_labels.iloc[:5]"
   ]
  },
  {
   "cell_type": "markdown",
   "id": "3bee4084",
   "metadata": {},
   "source": [
    "# Check Predictions"
   ]
  },
  {
   "cell_type": "code",
   "execution_count": 93,
   "id": "f43c8d80",
   "metadata": {},
   "outputs": [],
   "source": [
    "prepared_data = my_pipeline.transform(some_data)"
   ]
  },
  {
   "cell_type": "code",
   "execution_count": 94,
   "id": "19deea1c",
   "metadata": {},
   "outputs": [
    {
     "data": {
      "text/plain": [
       "array([ 9490.86, 34584.  ,  9021.5 ,  6339.97, 14275.81])"
      ]
     },
     "execution_count": 94,
     "metadata": {},
     "output_type": "execute_result"
    }
   ],
   "source": [
    "model.predict(prepared_data)"
   ]
  },
  {
   "cell_type": "code",
   "execution_count": 95,
   "id": "60cbacfa",
   "metadata": {},
   "outputs": [
    {
     "data": {
      "text/plain": [
       "[8948, 35550, 8845, 6855, 13295]"
      ]
     },
     "execution_count": 95,
     "metadata": {},
     "output_type": "execute_result"
    }
   ],
   "source": [
    "list(some_labels)"
   ]
  },
  {
   "cell_type": "code",
   "execution_count": 96,
   "id": "5fcce80b",
   "metadata": {},
   "outputs": [],
   "source": [
    "# predictions are fine not best..."
   ]
  },
  {
   "cell_type": "markdown",
   "id": "9f653088",
   "metadata": {},
   "source": [
    "# Evaluating The Model"
   ]
  },
  {
   "cell_type": "code",
   "execution_count": 97,
   "id": "4977e69c",
   "metadata": {},
   "outputs": [],
   "source": [
    "from sklearn.metrics import mean_squared_error"
   ]
  },
  {
   "cell_type": "code",
   "execution_count": 98,
   "id": "0049840b",
   "metadata": {},
   "outputs": [],
   "source": [
    "df_predictions = model.predict(df_num)"
   ]
  },
  {
   "cell_type": "code",
   "execution_count": 99,
   "id": "d730cba4",
   "metadata": {},
   "outputs": [],
   "source": [
    "#lin_mse = mean_squared_error(df_labels,df_predictions)\n",
    "mse = mean_squared_error(df_labels,df_predictions)"
   ]
  },
  {
   "cell_type": "code",
   "execution_count": 100,
   "id": "a6e4fb84",
   "metadata": {},
   "outputs": [],
   "source": [
    "#lin_rmse = np.sqrt(lin_mse)\n",
    "rmse = np.sqrt(mse)"
   ]
  },
  {
   "cell_type": "code",
   "execution_count": 101,
   "id": "0cd05138",
   "metadata": {},
   "outputs": [
    {
     "data": {
      "text/plain": [
       "1517.8679942148835"
      ]
     },
     "execution_count": 101,
     "metadata": {},
     "output_type": "execute_result"
    }
   ],
   "source": [
    "#lin_rmse\n",
    "rmse"
   ]
  },
  {
   "cell_type": "markdown",
   "id": "e4dd52a3",
   "metadata": {},
   "source": [
    "# using Better Evaluation Technique--(CROSS_VALIDATION)"
   ]
  },
  {
   "cell_type": "code",
   "execution_count": 102,
   "id": "ce589755",
   "metadata": {},
   "outputs": [],
   "source": [
    "from sklearn.model_selection import cross_val_score"
   ]
  },
  {
   "cell_type": "code",
   "execution_count": 103,
   "id": "5c9e4500",
   "metadata": {},
   "outputs": [],
   "source": [
    "scores = cross_val_score(model,df_num,df_labels,scoring=\"neg_mean_squared_error\",cv=10)"
   ]
  },
  {
   "cell_type": "code",
   "execution_count": 104,
   "id": "e7b0038a",
   "metadata": {},
   "outputs": [],
   "source": [
    "rmse_scores= np.sqrt(-scores)"
   ]
  },
  {
   "cell_type": "code",
   "execution_count": 105,
   "id": "c38ea9ab",
   "metadata": {},
   "outputs": [
    {
     "data": {
      "text/plain": [
       "array([9834.85772409, 2475.49055381, 2491.47210097, 3749.68982592,\n",
       "       2337.2805561 , 2823.50686737, 1789.27148117, 1961.67749676,\n",
       "       2132.48872009, 3560.63528919])"
      ]
     },
     "execution_count": 105,
     "metadata": {},
     "output_type": "execute_result"
    }
   ],
   "source": [
    "rmse_scores"
   ]
  },
  {
   "cell_type": "code",
   "execution_count": 106,
   "id": "4b274841",
   "metadata": {},
   "outputs": [],
   "source": [
    "# Create a Function"
   ]
  },
  {
   "cell_type": "code",
   "execution_count": 107,
   "id": "baec4a9d",
   "metadata": {},
   "outputs": [],
   "source": [
    "def print_scores(scores):\n",
    "    print(\"Scores:\",scores)\n",
    "    print(\"Mean:\",scores.mean())\n",
    "    print(\"Standard_Deviation:\",scores.std())"
   ]
  },
  {
   "cell_type": "code",
   "execution_count": 108,
   "id": "b9fae8e2",
   "metadata": {},
   "outputs": [
    {
     "name": "stdout",
     "output_type": "stream",
     "text": [
      "Scores: [9834.85772409 2475.49055381 2491.47210097 3749.68982592 2337.2805561\n",
      " 2823.50686737 1789.27148117 1961.67749676 2132.48872009 3560.63528919]\n",
      "Mean: 3315.6370615476926\n",
      "Standard_Deviation: 2256.013519090081\n"
     ]
    }
   ],
   "source": [
    "print_scores(rmse_scores)"
   ]
  },
  {
   "cell_type": "markdown",
   "id": "f4ad2b6a",
   "metadata": {},
   "source": [
    "## Saving the model"
   ]
  },
  {
   "cell_type": "code",
   "execution_count": 109,
   "id": "4c3e6e84",
   "metadata": {},
   "outputs": [
    {
     "data": {
      "text/plain": [
       "['Car.joblib']"
      ]
     },
     "execution_count": 109,
     "metadata": {},
     "output_type": "execute_result"
    }
   ],
   "source": [
    "from joblib import dump,load\n",
    "dump(model,'Car.joblib')"
   ]
  },
  {
   "cell_type": "markdown",
   "id": "7f8ca97b",
   "metadata": {},
   "source": [
    "## Testing the model on test data"
   ]
  },
  {
   "cell_type": "code",
   "execution_count": 113,
   "id": "19216b4c",
   "metadata": {},
   "outputs": [
    {
     "name": "stdout",
     "output_type": "stream",
     "text": [
      "[32237.2    18749.31   27683.     15891.6     7000.04   11186.45\n",
      " 10401.66   27889.03   16413.17   16498.08   10322.94   26725.89\n",
      " 13573.12    6429.3225  6668.8695 12362.48   17248.55   12197.12\n",
      " 17395.38   13343.65   29067.55   10926.05    8265.68    8832.93\n",
      "  9927.23   17124.33    9437.32    8709.29    8202.95    8125.79\n",
      " 10141.4     9548.98    8049.51   14578.61   15627.75    9191.95\n",
      " 15722.94    8147.51    7188.54    5730.17   17803.68  ] [35056, 21485, 37028, 15580, 6695, 11259, 8845, 34028, 15750, 16900, 9895, 41315, 11850, 5348, 6229, 13645, 18420, 10945, 17199, 16500, 25552, 10698, 7975, 10345, 8921, 15998, 10245, 8189, 11595, 7898, 10795, 9639, 7788, 16515, 12940, 9960, 13499, 7689, 7099, 6377, 22470]\n"
     ]
    }
   ],
   "source": [
    "X_test = strat_test_set.drop(\"price\",axis=1)\n",
    "Y_test = strat_test_set[\"price\"].copy()\n",
    "X_test_prepared = my_pipeline.transform(X_test)\n",
    "final_predictions = model.predict(X_test_prepared)\n",
    "final_mse = mean_squared_error(Y_test, final_predictions)\n",
    "final_rmse = np.sqrt(final_mse)\n",
    "print(final_predictions,list(Y_test))"
   ]
  },
  {
   "cell_type": "code",
   "execution_count": 112,
   "id": "ba09cfe0",
   "metadata": {},
   "outputs": [
    {
     "data": {
      "text/plain": [
       "3292.9231123349464"
      ]
     },
     "execution_count": 112,
     "metadata": {},
     "output_type": "execute_result"
    }
   ],
   "source": [
    "final_rmse"
   ]
  },
  {
   "cell_type": "code",
   "execution_count": 115,
   "id": "76ebfff0",
   "metadata": {},
   "outputs": [
    {
     "data": {
      "text/plain": [
       "array([-1.5898799 , -0.5570628 , -0.28097574, -0.47316022,  0.85282594,\n",
       "       -0.72987004, -0.07832604,  0.59117218,  0.14699224,  0.29381463,\n",
       "        0.47472158, -0.39733318, -0.33801593, -0.08361085,  0.07483599,\n",
       "        0.66956829, -0.32073522, -0.26047709, -1.4267149 ,  0.55353327,\n",
       "        0.44644375, -0.11111111, -0.19487094, -0.73970927,  1.07605517,\n",
       "       -0.39361095, -0.2409658 , -0.07832604, -0.2548236 ,  0.58673869,\n",
       "       -0.26813322, -0.2409658 , -0.11111111, -0.26813322, -0.72987004,\n",
       "       -0.07832604, -0.28097574, -0.07832604,  1.11650138, -0.22645541,\n",
       "       -0.07832604, -0.11111111, -0.21115394, -0.21115394, -0.13650473,\n",
       "       -0.21115394, -0.28097574, -0.15811388, -0.13650473, -0.26813322,\n",
       "       -0.19487094, -0.07832604, -0.26813322, -0.31728716, -0.2409658 ,\n",
       "       -0.19487094, -0.13650473, -0.07832604, -0.17733173, -0.2548236 ,\n",
       "        2.35796522, -0.2548236 , -0.19487094])"
      ]
     },
     "execution_count": 115,
     "metadata": {},
     "output_type": "execute_result"
    }
   ],
   "source": [
    "prepared_data[0]"
   ]
  },
  {
   "cell_type": "code",
   "execution_count": null,
   "id": "becec405",
   "metadata": {},
   "outputs": [],
   "source": []
  }
 ],
 "metadata": {
  "kernelspec": {
   "display_name": "Python 3",
   "language": "python",
   "name": "python3"
  },
  "language_info": {
   "codemirror_mode": {
    "name": "ipython",
    "version": 3
   },
   "file_extension": ".py",
   "mimetype": "text/x-python",
   "name": "python",
   "nbconvert_exporter": "python",
   "pygments_lexer": "ipython3",
   "version": "3.9.5"
  }
 },
 "nbformat": 4,
 "nbformat_minor": 5
}
